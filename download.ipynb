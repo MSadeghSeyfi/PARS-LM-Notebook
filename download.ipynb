{
 "cells": [
  {
   "cell_type": "code",
   "execution_count": null,
   "id": "7eb1dbf3",
   "metadata": {},
   "outputs": [],
   "source": [
    "from huggingface_hub import snapshot_download\n",
    "\n",
    "snapshot_download(repo_id=\"jinaai/jina-embeddings-v3\", local_dir=\"models/jina-v3\")"
   ]
  },
  {
   "cell_type": "code",
   "execution_count": 3,
   "id": "62ee7dcd",
   "metadata": {},
   "outputs": [],
   "source": [
    "import shutil\n",
    "import os\n",
    "\n",
    "# پاک کردن cache خراب\n",
    "cache_path = r\"C:\\Users\\Paya\\.cache\\huggingface\"\n",
    "if os.path.exists(cache_path):\n",
    "    shutil.rmtree(cache_path)\n",
    "    print(\"✅ Cache پاک شد\")"
   ]
  }
 ],
 "metadata": {
  "kernelspec": {
   "display_name": "quera",
   "language": "python",
   "name": "python3"
  },
  "language_info": {
   "codemirror_mode": {
    "name": "ipython",
    "version": 3
   },
   "file_extension": ".py",
   "mimetype": "text/x-python",
   "name": "python",
   "nbconvert_exporter": "python",
   "pygments_lexer": "ipython3",
   "version": "3.11.11"
  }
 },
 "nbformat": 4,
 "nbformat_minor": 5
}
